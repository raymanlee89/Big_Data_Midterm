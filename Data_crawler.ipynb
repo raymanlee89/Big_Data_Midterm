{
 "cells": [
  {
   "cell_type": "code",
   "execution_count": 35,
   "metadata": {},
   "outputs": [],
   "source": [
    "import pandas as pd\n",
    "from datetime import timedelta, date\n",
    "import time"
   ]
  },
  {
   "cell_type": "markdown",
   "metadata": {},
   "source": [
    "## Crawl the data"
   ]
  },
  {
   "cell_type": "code",
   "execution_count": null,
   "metadata": {},
   "outputs": [],
   "source": [
    "origin_url = 'https://www.twse.com.tw/exchangeReport/STOCK_DAY_AVG?response=csv&'\n",
    "stockNo = '2313'\n",
    "start_date = date(2016, 1, 1)\n",
    "end_date = date(2021, 1, 3)\n",
    "\n",
    "current_date = start_date\n",
    "d = current_date.strftime('%Y%m%d')\n",
    "url = origin_url + 'date=' + d + '&stockNo=' + stockNo\n",
    "df = pd.read_csv(url, encoding= 'big5', skiprows = [0], skipfooter = 5).drop(columns=['Unnamed: 2'])\n",
    "\n",
    "# jump by month\n",
    "while current_date < end_date:\n",
    "    carry, new_month = divmod(current_date.month, 12)\n",
    "    new_month += 1\n",
    "    current_date = current_date.replace(year=current_date.year + carry, month=new_month)\n",
    "    d = current_date.strftime('%Y%m%d')\n",
    "    print(d, end='\\r')\n",
    "    url = origin_url + 'date=' + d + '&stockNo=' + stockNo\n",
    "    temp_df = pd.read_csv(url, encoding= 'big5', skiprows = [0], skipfooter = 5, engine='python').drop(columns=['Unnamed: 2'])\n",
    "    df = pd.concat([df, temp_df], axis=0, ignore_index=True)\n",
    "    time.sleep(5)"
   ]
  },
  {
   "cell_type": "code",
   "execution_count": 145,
   "metadata": {},
   "outputs": [],
   "source": [
    "df.to_csv('Share_price_data.csv', index = False)"
   ]
  },
  {
   "cell_type": "code",
   "execution_count": 144,
   "metadata": {},
   "outputs": [
    {
     "data": {
      "text/html": [
       "<div>\n",
       "<style scoped>\n",
       "    .dataframe tbody tr th:only-of-type {\n",
       "        vertical-align: middle;\n",
       "    }\n",
       "\n",
       "    .dataframe tbody tr th {\n",
       "        vertical-align: top;\n",
       "    }\n",
       "\n",
       "    .dataframe thead th {\n",
       "        text-align: right;\n",
       "    }\n",
       "</style>\n",
       "<table border=\"1\" class=\"dataframe\">\n",
       "  <thead>\n",
       "    <tr style=\"text-align: right;\">\n",
       "      <th></th>\n",
       "      <th>日期</th>\n",
       "      <th>收盤價</th>\n",
       "    </tr>\n",
       "  </thead>\n",
       "  <tbody>\n",
       "    <tr>\n",
       "      <th>0</th>\n",
       "      <td>105/01/04</td>\n",
       "      <td>21.55</td>\n",
       "    </tr>\n",
       "    <tr>\n",
       "      <th>1</th>\n",
       "      <td>105/01/05</td>\n",
       "      <td>21.65</td>\n",
       "    </tr>\n",
       "    <tr>\n",
       "      <th>2</th>\n",
       "      <td>105/01/06</td>\n",
       "      <td>20.10</td>\n",
       "    </tr>\n",
       "    <tr>\n",
       "      <th>3</th>\n",
       "      <td>105/01/07</td>\n",
       "      <td>18.90</td>\n",
       "    </tr>\n",
       "    <tr>\n",
       "      <th>4</th>\n",
       "      <td>105/01/08</td>\n",
       "      <td>20.20</td>\n",
       "    </tr>\n",
       "    <tr>\n",
       "      <th>...</th>\n",
       "      <td>...</td>\n",
       "      <td>...</td>\n",
       "    </tr>\n",
       "    <tr>\n",
       "      <th>1211</th>\n",
       "      <td>109/12/25</td>\n",
       "      <td>43.75</td>\n",
       "    </tr>\n",
       "    <tr>\n",
       "      <th>1212</th>\n",
       "      <td>109/12/28</td>\n",
       "      <td>43.70</td>\n",
       "    </tr>\n",
       "    <tr>\n",
       "      <th>1213</th>\n",
       "      <td>109/12/29</td>\n",
       "      <td>43.15</td>\n",
       "    </tr>\n",
       "    <tr>\n",
       "      <th>1214</th>\n",
       "      <td>109/12/30</td>\n",
       "      <td>43.50</td>\n",
       "    </tr>\n",
       "    <tr>\n",
       "      <th>1215</th>\n",
       "      <td>109/12/31</td>\n",
       "      <td>43.50</td>\n",
       "    </tr>\n",
       "  </tbody>\n",
       "</table>\n",
       "<p>1216 rows × 2 columns</p>\n",
       "</div>"
      ],
      "text/plain": [
       "             日期    收盤價\n",
       "0     105/01/04  21.55\n",
       "1     105/01/05  21.65\n",
       "2     105/01/06  20.10\n",
       "3     105/01/07  18.90\n",
       "4     105/01/08  20.20\n",
       "...         ...    ...\n",
       "1211  109/12/25  43.75\n",
       "1212  109/12/28  43.70\n",
       "1213  109/12/29  43.15\n",
       "1214  109/12/30  43.50\n",
       "1215  109/12/31  43.50\n",
       "\n",
       "[1216 rows x 2 columns]"
      ]
     },
     "execution_count": 144,
     "metadata": {},
     "output_type": "execute_result"
    }
   ],
   "source": [
    "df"
   ]
  },
  {
   "cell_type": "code",
   "execution_count": null,
   "metadata": {},
   "outputs": [],
   "source": []
  }
 ],
 "metadata": {
  "kernelspec": {
   "display_name": "Python 3",
   "language": "python",
   "name": "python3"
  },
  "language_info": {
   "codemirror_mode": {
    "name": "ipython",
    "version": 3
   },
   "file_extension": ".py",
   "mimetype": "text/x-python",
   "name": "python",
   "nbconvert_exporter": "python",
   "pygments_lexer": "ipython3",
   "version": "3.8.5"
  }
 },
 "nbformat": 4,
 "nbformat_minor": 4
}
